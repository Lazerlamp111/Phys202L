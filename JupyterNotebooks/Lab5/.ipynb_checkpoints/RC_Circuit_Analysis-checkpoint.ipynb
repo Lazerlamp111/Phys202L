{
 "cells": [
  {
   "cell_type": "markdown",
   "metadata": {},
   "source": [
    "# Lab 5:  RC Circuit Analysis"
   ]
  },
  {
   "cell_type": "code",
   "execution_count": 48,
   "metadata": {},
   "outputs": [],
   "source": [
    "import numpy as np\n",
    "import pandas as pd\n",
    "import matplotlib.pyplot as plt\n",
    "import scipy.stats as stats\n",
    "\n",
    "# The following lines make plots in dark mode look reasonable.  If you are not using dark\n",
    "# mode you don't need them, but you can also just leave them here and it should work fine.\n",
    "\n",
    "dark_mode = True\n",
    "# plotting choices for dark-mode\n",
    "if (dark_mode):\n",
    "    from jupyterthemes import jtplot\n",
    "    jtplot.style(theme='monokai', context='notebook', ticks=True, grid=False)\n",
    "    linecolor = 'w'\n",
    "else:\n",
    "    linecolor = 'k'"
   ]
  },
  {
   "cell_type": "markdown",
   "metadata": {},
   "source": [
    "# Capacitor-Resistor Combination 1\n",
    "\n",
    "In each phase of this experiment, a different combination of capactior and resistor, in a series circuit, was used.  The theory is as follows:\n",
    "\n",
    "When the switch is closed, thus defining $t=0$, the voltage across the capacitor will be given by:\n",
    "\n",
    "$\n",
    "\\begin{equation}\n",
    "V(t) = V_{source}(1 - e^{-\\frac{t}{RC}})\n",
    "\\end{equation}\n",
    "$\n",
    "\n",
    "The current through the circuit, defined according to $i_C = C\\frac{dV_C}{dt}$, is:\n",
    "\n",
    "$\n",
    "\\begin{equation}\n",
    "i(t) = \\frac{V_{source}}{R}e^{-\\frac{t}{RC}}\n",
    "\\end{equation}\n",
    "$\n",
    "\n",
    "The charge on the capacitor, defined by $Q = \\int_0^t i(t)dt$, is given by:\n",
    "\n",
    "$\n",
    "\\begin{equation}\n",
    "Q(t) = C V_{source}(1-e^{-\\frac{t}{RC}})\n",
    "\\end{equation}\n",
    "$\n"
   ]
  },
  {
   "cell_type": "code",
   "execution_count": 49,
   "metadata": {},
   "outputs": [],
   "source": [
    "# Create a Pandas DataFrame with data for part 1\n",
    "\n",
    "df1 = pd.read_csv(\"exp5_data_part1.csv\")\n",
    "\n",
    "df1_iv = (df1.copy()).drop(df1.columns[3], axis=1).dropna()\n",
    "df1_q = (df1.copy()).drop(df1.columns[2], axis=1)\n",
    "df1_q = (df1_q.copy()).drop(df1_q.columns[1], axis=1).dropna()"
   ]
  },
  {
   "cell_type": "code",
   "execution_count": 50,
   "metadata": {},
   "outputs": [
    {
     "data": {
      "text/html": [
       "<div>\n",
       "<style scoped>\n",
       "    .dataframe tbody tr th:only-of-type {\n",
       "        vertical-align: middle;\n",
       "    }\n",
       "\n",
       "    .dataframe tbody tr th {\n",
       "        vertical-align: top;\n",
       "    }\n",
       "\n",
       "    .dataframe thead th {\n",
       "        text-align: right;\n",
       "    }\n",
       "</style>\n",
       "<table border=\"1\" class=\"dataframe\">\n",
       "  <thead>\n",
       "    <tr style=\"text-align: right;\">\n",
       "      <th></th>\n",
       "      <th>t</th>\n",
       "      <th>q</th>\n",
       "      <th>dt</th>\n",
       "      <th>dq</th>\n",
       "    </tr>\n",
       "  </thead>\n",
       "  <tbody>\n",
       "    <tr>\n",
       "      <th>1</th>\n",
       "      <td>0.00025</td>\n",
       "      <td>4.420000e-08</td>\n",
       "      <td>0.0001</td>\n",
       "      <td>1.000000e-08</td>\n",
       "    </tr>\n",
       "    <tr>\n",
       "      <th>3</th>\n",
       "      <td>0.00075</td>\n",
       "      <td>8.200000e-08</td>\n",
       "      <td>0.0001</td>\n",
       "      <td>1.000000e-08</td>\n",
       "    </tr>\n",
       "    <tr>\n",
       "      <th>5</th>\n",
       "      <td>0.00100</td>\n",
       "      <td>1.210000e-07</td>\n",
       "      <td>0.0001</td>\n",
       "      <td>1.000000e-08</td>\n",
       "    </tr>\n",
       "    <tr>\n",
       "      <th>7</th>\n",
       "      <td>0.00200</td>\n",
       "      <td>1.600000e-07</td>\n",
       "      <td>0.0001</td>\n",
       "      <td>1.000000e-08</td>\n",
       "    </tr>\n",
       "    <tr>\n",
       "      <th>9</th>\n",
       "      <td>0.00200</td>\n",
       "      <td>1.920000e-07</td>\n",
       "      <td>0.0001</td>\n",
       "      <td>1.000000e-08</td>\n",
       "    </tr>\n",
       "  </tbody>\n",
       "</table>\n",
       "</div>"
      ],
      "text/plain": [
       "         t             q      dt            dq\n",
       "1  0.00025  4.420000e-08  0.0001  1.000000e-08\n",
       "3  0.00075  8.200000e-08  0.0001  1.000000e-08\n",
       "5  0.00100  1.210000e-07  0.0001  1.000000e-08\n",
       "7  0.00200  1.600000e-07  0.0001  1.000000e-08\n",
       "9  0.00200  1.920000e-07  0.0001  1.000000e-08"
      ]
     },
     "execution_count": 50,
     "metadata": {},
     "output_type": "execute_result"
    }
   ],
   "source": [
    "df1_iv = df1_iv.set_axis(['t', 'v', 'i'], axis=1, inplace=False)\n",
    "df1_q = df1_q.set_axis(['t', 'q'], axis=1, inplace=False)\n",
    "\n",
    "df1_iv['di']=0.000001\n",
    "df1_iv['dv']=0.001\n",
    "df1_iv['dt']=0.0001\n",
    "\n",
    "df1_q['dt']=0.0001\n",
    "df1_q['dq']=1E-8\n",
    "\n",
    "df1_q.head()"
   ]
  },
  {
   "cell_type": "markdown",
   "metadata": {},
   "source": [
    "Our first task is to define the $t=0$ point.  We should graph the raw data, for voltage vs. time, and use this plot to decide on the fit region."
   ]
  },
  {
   "cell_type": "code",
   "execution_count": 64,
   "metadata": {},
   "outputs": [
    {
     "data": {
      "text/plain": [
       "<ErrorbarContainer object of 3 artists>"
      ]
     },
     "execution_count": 64,
     "metadata": {},
     "output_type": "execute_result"
    },
    {
     "data": {
      "image/png": "[encoded data removed]",
      "text/plain": [
       "<Figure size 576x504 with 1 Axes>"
      ]
     },
     "metadata": {},
     "output_type": "display_data"
    }
   ],
   "source": [
    "xi = df1_iv['t']\n",
    "yi = df1_iv['v']\n",
    "sigmaxi = df1_iv['dt']\n",
    "sigmayi = df1_iv['dv']\n",
    "\n",
    "plt.errorbar(xi, yi, xerr=sigmaxi, yerr=sigmayi, fmt='o', capsize=2, capthick=1)\n",
    "#plt.xlim(1.2,1.23)\n",
    "#plt.ylim(-0.025,0.025)\n",
    "\n",
    "tlow = 1.220\n",
    "thigh = 8.000\n",
    "\n",
    "df1_iv_select = df1_iv[(df1_iv['t']>tlow) & (df1_iv['t']<thigh)]\n",
    "xi = df1_iv_select['t']\n",
    "yi = df1_iv_select['v']\n",
    "sigmaxi = df1_iv_select['dt']\n",
    "sigmayi = df1_iv_select['dv']\n",
    "\n",
    "plt.errorbar(xi, yi, xerr=sigmaxi, yerr=sigmayi, fmt='o', capsize=2, capthick=1)\n",
    "\n"
   ]
  },
  {
   "cell_type": "code",
   "execution_count": 71,
   "metadata": {},
   "outputs": [
    {
     "name": "stdout",
     "output_type": "stream",
     "text": [
      "Beta: [10.02936758  1.20385944  2.20256167]\n",
      "Beta Std Error: [3.38644298e-04 9.05950943e-05 2.51418360e-04]\n",
      "Beta Covariance: [[ 9.83240909e-10 -1.32561698e-10  6.57763066e-10]\n",
      " [-1.32561698e-10  7.03690626e-11 -1.42108344e-10]\n",
      " [ 6.57763066e-10 -1.42108344e-10  5.41958939e-10]]\n",
      "Residual Variance: 116.63465156342538\n",
      "Inverse Condition #: 0.10842247956292501\n",
      "Reason(s) for Halting:\n",
      "  Sum of squares convergence\n",
      "\n",
      "Final Result: Y = (10.029367580 +/- 0.000338644) (1 - EXP(-(X - (1.203859445 +/- 0.000090595))/(2.202561666 +/- 0.000251418)))\n"
     ]
    },
    {
     "data": {
      "image/png": "[encoded data removed]",
      "text/plain": [
       "<Figure size 640x480 with 1 Axes>"
      ]
     },
     "metadata": {},
     "output_type": "display_data"
    }
   ],
   "source": [
    "from scipy.odr import *\n",
    "\n",
    "def fitfunction(B, x):\n",
    "    '''Exponential function y = B[0](1 - e^(-(x-B[1])/B[2]))'''\n",
    "    # B is a vector of the parameters.\n",
    "    # x is an array of the current x values.\n",
    "    # x is in the same format as the x passed to Data or RealData.\n",
    "    #\n",
    "    # Return an array in the same format as y passed to Data or RealData.\n",
    "    return B[0]*(1.0-np.exp(-(x-B[1])/B[2]))\n",
    "\n",
    "linear = Model(fitfunction) # create a Model object based on the fitfuncion we have defined\n",
    "mydata = RealData(xi, yi, sx=sigmaxi, sy=sigmayi) # create a data object based on our data, include errors.\n",
    "myodr = ODR(mydata, linear, beta0=[10.0, tlow, 5.]) # create a fitting object, based on the data, fit Model, and an intial set of parameters.\n",
    "myoutput = myodr.run()  # run the fitting process to get optimized parameters!\n",
    "\n",
    "myoutput.pprint() # print out the result of the fit\n",
    "\n",
    "# Now assign the important fit results to some more convenient variables.\n",
    "\n",
    "popt = myoutput.beta # the vector of optimized parameters\n",
    "pcov = myoutput.cov_beta # the covariance matrix\n",
    "perr = myoutput.sd_beta # the vector of ERRORS in the optimized parameters\n",
    "\n",
    "# The following lines generate upper and lower 99% \"Confidence Bands\" on the fit, for visualization\n",
    "# purposes.\n",
    "\n",
    "ps = np.random.multivariate_normal(popt,pcov,10000)\n",
    "ysample=np.asarray([fitfunction(pi,xi) for pi in ps])\n",
    "\n",
    "lower = np.percentile(ysample,0.5,axis=0)\n",
    "upper = np.percentile(ysample,99.5,axis=0)\n",
    "middle = (lower+upper)/2.0\n",
    "\n",
    "print()\n",
    "print (\"Final Result: Y = (%0.9f +/- %0.9f) (1 - EXP(-(X - (%0.9f +/- %0.9f))/(%0.9f +/- %0.9f)))\" % (popt[0],perr[0],popt[1],perr[1],popt[2],perr[2]))\n",
    "\n",
    "plt.figure(figsize=(8, 6), dpi=80)\n",
    "\n",
    "plt.errorbar(xi, yi, xerr=sigmaxi, yerr=sigmayi, fmt='.', capsize=2, capthick=1)\n",
    "\n",
    "plt.plot(xi,middle)\n",
    "plt.plot(xi,lower)\n",
    "plt.plot(xi,upper)\n",
    "\n",
    "#########################\n",
    "\n",
    "plt.xlabel('Time (seconds)')\n",
    "plt.ylabel('Voltage (Volts)')\n",
    "plt.title('RC Circuit Configuration 1')\n",
    "plt.show()"
   ]
  },
  {
   "cell_type": "code",
   "execution_count": 73,
   "metadata": {},
   "outputs": [
    {
     "data": {
      "text/plain": [
       "<ErrorbarContainer object of 3 artists>"
      ]
     },
     "execution_count": 73,
     "metadata": {},
     "output_type": "execute_result"
    },
    {
     "data": {
      "image/png": "[encoded data removed]",
      "text/plain": [
       "<Figure size 576x504 with 1 Axes>"
      ]
     },
     "metadata": {},
     "output_type": "display_data"
    }
   ],
   "source": [
    "xi = df1_iv['t']\n",
    "yi = df1_iv['i']\n",
    "sigmaxi = df1_iv['dt']\n",
    "sigmayi = df1_iv['di']\n",
    "\n",
    "plt.errorbar(xi, yi, xerr=sigmaxi, yerr=sigmayi, fmt='o', capsize=2, capthick=1)\n",
    "#plt.xlim(1.2,1.23)\n",
    "#plt.ylim(-0.025,0.025)\n",
    "\n",
    "tlow = 1.220\n",
    "thigh = 8.000\n",
    "\n",
    "df1_iv_select = df1_iv[(df1_iv['t']>tlow) & (df1_iv['t']<thigh)]\n",
    "xi = df1_iv_select['t']\n",
    "yi = df1_iv_select['i']\n",
    "sigmaxi = df1_iv_select['dt']\n",
    "sigmayi = df1_iv_select['di']\n",
    "\n",
    "plt.errorbar(xi, yi, xerr=sigmaxi, yerr=sigmayi, fmt='o', capsize=2, capthick=1)"
   ]
  },
  {
   "cell_type": "markdown",
   "metadata": {},
   "source": [
    "## Analysis of Voltage vs. Position Result\n",
    "\n",
    "First of all, we see that this is a pretty good linear fit!\n",
    "\n",
    "Second, we see that the result for the y-intercept (b) is $(0.494 \\pm 0.082)$ Volts.  This is close to zero, but still inconsistent with our expectations.\n",
    "\n",
    "Third, we see that the average electric field (the slope) that we were trying to determine is\n",
    "$(169.9 \\pm 2.3)$ Volts per meter.  Based on the calculation of the expected value (in the next cell), we are not in agreement with that result.  Why?"
   ]
  },
  {
   "cell_type": "markdown",
   "metadata": {},
   "source": []
  },
  {
   "cell_type": "code",
   "execution_count": null,
   "metadata": {},
   "outputs": [],
   "source": []
  }
 ],
 "metadata": {
  "kernelspec": {
   "display_name": "Python 3",
   "language": "python",
   "name": "python3"
  },
  "language_info": {
   "codemirror_mode": {
    "name": "ipython",
    "version": 3
   },
   "file_extension": ".py",
   "mimetype": "text/x-python",
   "name": "python",
   "nbconvert_exporter": "python",
   "pygments_lexer": "ipython3",
   "version": "3.6.8"
  },
  "latex_envs": {
   "LaTeX_envs_menu_present": true,
   "autoclose": false,
   "autocomplete": true,
   "bibliofile": "biblio.bib",
   "cite_by": "apalike",
   "current_citInitial": 1,
   "eqLabelWithNumbers": true,
   "eqNumInitial": 1,
   "hotkeys": {
    "equation": "Ctrl-E",
    "itemize": "Ctrl-I"
   },
   "labels_anchors": false,
   "latex_user_defs": false,
   "report_style_numbering": false,
   "user_envs_cfg": false
  }
 },
 "nbformat": 4,
 "nbformat_minor": 4
}
